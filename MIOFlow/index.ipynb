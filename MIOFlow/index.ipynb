{
 "cells": [
  {
   "cell_type": "markdown",
   "metadata": {},
   "source": [
    "# Toy Trajectory Net\n",
    "\n",
    "> Toy Trajectory Net Project"
   ]
  },
  {
   "cell_type": "markdown",
   "metadata": {},
   "source": [
    "## Currently TOC is broken, temp fix:\n",
    "- [`ToyTrajectoryNet.ode`](https://dsm-72.github.io/ToyTrajectoryNet/ode)\n",
    "- [`ToyTrajectoryNet.losses`](https://dsm-72.github.io/ToyTrajectoryNet/losses)\n",
    "- [`ToyTrajectoryNet.utils`](https://dsm-72.github.io/ToyTrajectoryNet/utils)\n",
    "- [`ToyTrajectoryNet.models`](https://dsm-72.github.io/ToyTrajectoryNet/models)\n",
    "- [`ToyTrajectoryNet.plots`](https://dsm-72.github.io/ToyTrajectoryNet/plots)\n",
    "- [`ToyTrajectoryNet.train`](https://dsm-72.github.io/ToyTrajectoryNet/train)\n",
    "- [`ToyTrajectoryNet.constants`](https://dsm-72.github.io/ToyTrajectoryNet/constants)\n",
    "- [`ToyTrajectoryNet.datasets`](https://dsm-72.github.io/ToyTrajectoryNet/datasets)\n",
    "- [`ToyTrajectoryNet.exp`](https://dsm-72.github.io/ToyTrajectoryNet/exp)\n",
    "- [`ToyTrajectoryNet.geo`](https://dsm-72.github.io/ToyTrajectoryNet/geo)\n",
    "- [`ToyTrajectoryNet.eval`](https://dsm-72.github.io/ToyTrajectoryNet/eval)"
   ]
  },
  {
   "cell_type": "markdown",
   "metadata": {},
   "source": [
    "# TODOS\n",
    "Find todos [here](./TODO.md), Google drive [here](https://drive.google.com/drive/u/1/folders/1hSD2ricV8e6WLGmu4vMp0zOWMHHg_hzw) \n",
    "\n",
    "# MINUTES\n",
    "Find weekly minutes [here](./MINUTES.md)"
   ]
  },
  {
   "cell_type": "markdown",
   "metadata": {},
   "source": [
    "## Setup\n",
    "\n",
    "To get all the pagackes required, run the following command:\n",
    "\n",
    "```bash\n",
    "$ conda env create -f environment.yml\n",
    "```\n",
    "\n",
    "This will create a new conda environment `sklab-toy-tjnet`, which can be activated via:\n",
    "\n",
    "```\n",
    "conda activate sklab-toy-tjnet\n",
    "```\n",
    "\n",
    "### Add kernel to Jupyter Notebook\n",
    "\n",
    "#### automatic conda kernels\n",
    "For greater detail see the official docs for [`nb_conda_kernels`][nb_conda_kernels].\n",
    "In short, install `nb_conda_kernels` in the environment from which you launch JupyterLab / Jupyter Notebooks from (e.g. `base`) via:\n",
    "\n",
    "```bash\n",
    "$ conda install -n <notebook_env> nb_conda_kernels\n",
    "```\n",
    "\n",
    "to add a new or exist conda environment to Jupyter simply install `ipykernel` into that conda environment e.g.\n",
    "\n",
    "```bash\n",
    "$ conda install -n <python_env> ipykernel\n",
    "```\n",
    "\n",
    "\n",
    "#### manual ipykernel\n",
    "add to your Jupyter Notebook kernels via\n",
    "\n",
    "```bash\n",
    "$ python -m ipykernel install --user --name sklab-toy-tjnet\n",
    "```\n",
    "\n",
    "It can be removed via:\n",
    "\n",
    "```bash\n",
    "$ jupyter kernelspec uninstall sklab-toy-tjnet\n",
    "```\n",
    "\n",
    "#### list kernels found by Jupyter\n",
    "\n",
    "kernels recognized by conda\n",
    "```bash\n",
    "$ python -m nb_conda_kernels list\n",
    "```\n",
    "\n",
    "check which kernels are discovered by Jupyter:\n",
    "```bash\n",
    "$ jupyter kernelspec list\n",
    "```\n",
    "\n",
    "[nb_conda_kernels]: https://github.com/Anaconda-Platform/nb_conda_kernels"
   ]
  },
  {
   "cell_type": "markdown",
   "metadata": {},
   "source": [
    "## Install"
   ]
  },
  {
   "cell_type": "markdown",
   "metadata": {},
   "source": [
    "### For developers and internal use:\n",
    "```\n",
    "cd path/to/this/repository\n",
    "pip install -e ToyTrajectoryNet\n",
    "```\n",
    "\n",
    "### For production use:\n",
    "`pip install ToyTrajectoryNet`"
   ]
  },
  {
   "cell_type": "markdown",
   "metadata": {},
   "source": [
    "## How to use"
   ]
  },
  {
   "cell_type": "markdown",
   "metadata": {},
   "source": [
    "This repository consists of our python library `ToyTrajectoryNet` as well as a directory of scripts for running and using it. "
   ]
  },
  {
   "cell_type": "markdown",
   "metadata": {},
   "source": [
    "### Scripts"
   ]
  },
  {
   "cell_type": "markdown",
   "metadata": {},
   "source": [
    "To recreate our results with MMD loss and density regulariazation you can run the following command:\n",
    "\n",
    "```bash\n",
    "python scripts/run.py -d petals -c mmd -n petal-mmd\n",
    "```\n",
    "\n",
    "This will generate the directory `results/petals-mmd` and save everything there.\n",
    "\n",
    "For a full list of parameters try running:\n",
    "\n",
    "```bash\n",
    "python scripts/run.py --help\n",
    "```"
   ]
  },
  {
   "cell_type": "markdown",
   "metadata": {},
   "source": [
    "### Python Package\n",
    "One could simply import everything and use it piecemeal:"
   ]
  },
  {
   "cell_type": "code",
   "execution_count": null,
   "metadata": {},
   "outputs": [],
   "source": [
    "from ToyTrajectoryNet.ode import *\n",
    "from ToyTrajectoryNet.losses import *\n",
    "from ToyTrajectoryNet.utils import *\n",
    "from ToyTrajectoryNet.models import *\n",
    "from ToyTrajectoryNet.plots import *\n",
    "from ToyTrajectoryNet.train import *\n",
    "from ToyTrajectoryNet.constants import *\n",
    "from ToyTrajectoryNet.datasets import *\n",
    "from ToyTrajectoryNet.exp import *\n",
    "from ToyTrajectoryNet.geo import *\n",
    "from ToyTrajectoryNet.eval import *"
   ]
  },
  {
   "cell_type": "markdown",
   "metadata": {},
   "source": [
    "### Tutorials\n",
    "One can also consult or modify the tutorial notebooks for their uses:\n",
    "- [EB Bodies tutorial][ebbodies]\n",
    "- [Dyngen tutorial][dyngen]\n",
    "- [Petals tutorial][petals]\n",
    "\n",
    "[ebbodies]: https://github.com/dsm-72/ToyTrajectoryNet/blob/main/notebooks/EB-Bodies.ipynb\n",
    "[dyngen]: https://github.com/dsm-72/ToyTrajectoryNet/blob/main/notebooks/Dyngen.ipynb\n",
    "[petals]: https://github.com/dsm-72/ToyTrajectoryNet/blob/main/notebooks/%5BMMD%5D%5BTEST%5D%5BDiamond%20Petals%5D%20Trajectory%20Net.ipynb"
   ]
  },
  {
   "cell_type": "markdown",
   "metadata": {},
   "source": []
  }
 ],
 "metadata": {
  "kernelspec": {
   "display_name": "Python 3",
   "language": "python",
   "name": "python3"
  }
 },
 "nbformat": 4,
 "nbformat_minor": 2
}
