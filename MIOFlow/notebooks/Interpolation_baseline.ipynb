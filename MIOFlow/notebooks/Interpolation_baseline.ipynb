{
 "cells": [
  {
   "cell_type": "code",
   "execution_count": null,
   "metadata": {},
   "outputs": [],
   "source": [
    "import time\n",
    "import numpy as np\n",
    "import ot\n",
    "import ot.plot\n",
    "import matplotlib.pyplot as plt\n",
    "from ToyTrajectoryNet.datasets import (\n",
    "    make_diamonds, make_swiss_roll, make_tree, make_eb_data, \n",
    "    make_dyngen_data\n",
    ")\n",
    "from ToyTrajectoryNet.utils import sample"
   ]
  },
  {
   "cell_type": "code",
   "execution_count": null,
   "metadata": {},
   "outputs": [
    {
     "name": "stdout",
     "output_type": "stream",
     "text": [
      "Calculating PHATE...\n",
      "  Running PHATE on 1000 observations and 135 variables.\n",
      "  Calculating graph and diffusion operator...\n",
      "    Calculating PCA...\n",
      "    Calculated PCA in 0.13 seconds.\n",
      "    Calculating KNN search...\n",
      "    Calculated KNN search in 0.10 seconds.\n",
      "    Calculating affinities...\n",
      "    Calculated affinities in 0.02 seconds.\n",
      "  Calculated graph and diffusion operator in 0.26 seconds.\n",
      "  Calculating optimal t...\n",
      "    Automatically selected t = 12\n",
      "  Calculated optimal t in 0.44 seconds.\n",
      "  Calculating diffusion potential...\n",
      "  Calculated diffusion potential in 0.12 seconds.\n",
      "  Calculating metric MDS...\n",
      "  Calculated metric MDS in 21.48 seconds.\n",
      "Calculated PHATE in 22.31 seconds.\n"
     ]
    }
   ],
   "source": [
    "df_petal = make_diamonds()\n",
    "df_dyngen = make_dyngen_data(phate_dims=5)"
   ]
  },
  {
   "cell_type": "code",
   "execution_count": null,
   "metadata": {},
   "outputs": [],
   "source": [
    "def interpolate(df, time:list, sample_size:float, alpha:float):\n",
    "  xs = sample(df, time[0], size=sample_size, replace=False, to_torch=False, use_cuda=False)\n",
    "  xt = sample(df, time[1], size=sample_size, replace=False, to_torch=False, use_cuda=False)\n",
    "  M = ot.dist(xs, xt)\n",
    "  a = ot.unif(xs.shape[0])\n",
    "  b = ot.unif(xt.shape[0])\n",
    "  T = ot.emd(a, b, M)\n",
    "  mx = T.max()\n",
    "  xi = []\n",
    "  test_bijection = []\n",
    "  for i in range(xs.shape[0]):\n",
    "    bij=0\n",
    "    for j in range(xt.shape[0]):\n",
    "      if T[i,j] / mx > 0.9:\n",
    "        bij = 1 + bij\n",
    "        xi.append(alpha*xs[i] + (1-alpha)*xt[j])\n",
    "        test_bijection.append(bij)\n",
    "  return {'xi': np.array(xi), 'xs': xs, 'xt':xt}, test_bijection"
   ]
  },
  {
   "cell_type": "code",
   "execution_count": null,
   "metadata": {},
   "outputs": [],
   "source": [
    "sample_size_petal = 140\n",
    "sample_size_dyngen = 63"
   ]
  },
  {
   "cell_type": "code",
   "execution_count": null,
   "metadata": {},
   "outputs": [
    {
     "name": "stdout",
     "output_type": "stream",
     "text": [
      "0.02533268928527832\n",
      "0.009325027465820312\n",
      "0.009651660919189453\n"
     ]
    }
   ],
   "source": [
    "groups = sorted(df_petal.samples.unique())\n",
    "petal_interpolation = {}\n",
    "for step in zip(groups[:],groups[2:]):\n",
    "    start_time = time.time()\n",
    "    time_inter = (step[0] + step[1])/2.0\n",
    "    dt, bij = interpolate(df_petal, step, sample_size = sample_size_petal, alpha=0.5)\n",
    "    petal_interpolation['inter_time_'+str(int(time_inter))] = dt['xi']\n",
    "    run_time = time.time() - start_time\n",
    "    print(run_time)"
   ]
  },
  {
   "cell_type": "code",
   "execution_count": null,
   "metadata": {},
   "outputs": [],
   "source": [
    "petal_interpolation\n",
    "np.save('petal_interpolation.npy',petal_interpolation)"
   ]
  },
  {
   "cell_type": "code",
   "execution_count": null,
   "metadata": {},
   "outputs": [
    {
     "name": "stdout",
     "output_type": "stream",
     "text": [
      "0.005334377288818359\n",
      "0.0034401416778564453\n",
      "0.0034630298614501953\n"
     ]
    }
   ],
   "source": [
    "groups = sorted(df_dyngen.samples.unique())\n",
    "dyngen_interpolation = {}\n",
    "for step in zip(groups[:],groups[2:]):\n",
    "    start_time = time.time()\n",
    "    time_inter = (step[0] + step[1])/2.0\n",
    "    dt, bij = interpolate(df_dyngen, step, sample_size = sample_size_dyngen, alpha=0.5)\n",
    "    dyngen_interpolation['inter_time_'+str(int(time_inter))] = dt['xi']\n",
    "    run_time = time.time() - start_time\n",
    "    print(run_time)"
   ]
  },
  {
   "cell_type": "code",
   "execution_count": null,
   "metadata": {},
   "outputs": [],
   "source": [
    "np.save('dyngen_interpolation.npy',dyngen_interpolation)"
   ]
  },
  {
   "cell_type": "code",
   "execution_count": null,
   "metadata": {},
   "outputs": [
    {
     "data": {
      "image/png": "[encoded data removed]",
      "text/plain": [
       "<Figure size 432x288 with 1 Axes>"
      ]
     },
     "metadata": {
      "needs_background": "light"
     },
     "output_type": "display_data"
    }
   ],
   "source": [
    "fig = plt.figure()\n",
    "ax1 = fig.add_subplot(111)\n",
    "ax1.scatter(dyngen_interpolation['inter_time_2'][:,0],dyngen_interpolation['inter_time_2'][:,1])\n",
    "ax1.scatter(dyngen_interpolation['inter_time_3'][:,0],dyngen_interpolation['inter_time_3'][:,1])\n",
    "ax1.scatter(dyngen_interpolation['inter_time_4'][:,0],dyngen_interpolation['inter_time_4'][:,1])\n",
    "plt.show()"
   ]
  }
 ],
 "metadata": {
  "kernelspec": {
   "display_name": "Python 3.6.15 64-bit ('sklab-toy-tjnet')",
   "language": "python",
   "name": "python3"
  }
 },
 "nbformat": 4,
 "nbformat_minor": 2
}
