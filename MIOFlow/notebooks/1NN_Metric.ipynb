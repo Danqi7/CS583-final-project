{
 "cells": [
  {
   "cell_type": "code",
   "execution_count": 1,
   "id": "29493675",
   "metadata": {},
   "outputs": [],
   "source": [
    "%load_ext autoreload\n",
    "%autoreload 2"
   ]
  },
  {
   "cell_type": "code",
   "execution_count": 2,
   "id": "95a641d6",
   "metadata": {},
   "outputs": [
    {
     "name": "stderr",
     "output_type": "stream",
     "text": [
      "/home/solstice/Projects/ToyTrajectoryNet/ToyTrajectoryNet/datasets.py:152: SyntaxWarning: \"is not\" with a literal. Did you mean \"!=\"?\n",
      "  if n_sample is not 'all' and not phate:\n"
     ]
    }
   ],
   "source": [
    "from ToyTrajectoryNet.losses import MMD_loss, OT_loss, Density_loss, Local_density_loss\n",
    "from ToyTrajectoryNet.utils import group_extract, sample, to_np, generate_steps\n",
    "from ToyTrajectoryNet.models import ToyModel, make_model, Autoencoder\n",
    "from ToyTrajectoryNet.plots import plot_comparision, plot_losses\n",
    "from ToyTrajectoryNet.train import train, train_ae\n",
    "from ToyTrajectoryNet.constants import ROOT_DIR, DATA_DIR, NTBK_DIR, IMGS_DIR, RES_DIR\n",
    "from ToyTrajectoryNet.datasets import (\n",
    "    make_diamonds, make_swiss_roll, make_tree, make_eb_data, \n",
    "    make_dyngen_data, relabel_data\n",
    ")\n",
    "from ToyTrajectoryNet.ode import NeuralODE, ODEF\n",
    "from ToyTrajectoryNet.geo import DiffusionDistance, old_DiffusionDistance\n",
    "from ToyTrajectoryNet.exp import setup_exp\n",
    "from ToyTrajectoryNet.eval import generate_plot_data\n",
    "\n",
    "import os, pandas as pd, numpy as np, \\\n",
    "    seaborn as sns, matplotlib as mpl, matplotlib.pyplot as plt, \\\n",
    "    torch, torch.nn as nn\n",
    "import random\n",
    "\n",
    "from tqdm.notebook import tqdm\n",
    "from phate import PHATE\n",
    "\n",
    "# for geodesic learning\n",
    "from sklearn.gaussian_process.kernels import RBF\n",
    "from sklearn.manifold import MDS\n",
    "\n",
    "os.environ['CUDA_LAUNCH_BLOCKING'] = '1'"
   ]
  },
  {
   "cell_type": "markdown",
   "id": "035faeb8",
   "metadata": {},
   "source": [
    "# Run 1NN Metrics"
   ]
  },
  {
   "cell_type": "code",
   "execution_count": 3,
   "id": "ce4767df",
   "metadata": {},
   "outputs": [],
   "source": [
    "from ToyTrajectoryNet.eval import calculate_nn, get_points_from_trajectories\n",
    "from ToyTrajectoryNet.utils import generate_steps\n",
    "import pickle"
   ]
  },
  {
   "cell_type": "markdown",
   "id": "ed317d8b",
   "metadata": {},
   "source": [
    "NOTE: all files saved as pickles and uploaded to https://drive.google.com/drive/u/1/folders/1VRnmS-nYfLBx2oorroiVZOn7jCS7ZdWj\n",
    "and contain the original df and points"
   ]
  },
  {
   "cell_type": "code",
   "execution_count": 7,
   "id": "951c352c",
   "metadata": {},
   "outputs": [
    {
     "name": "stdout",
     "output_type": "stream",
     "text": [
      "mioflow[[petals]]\n",
      "\t time 0.09554\t any 0.06639\n",
      "mioflow[[dyngen]]\n",
      "\t time 1.16261\t any 1.15277\n",
      "dsb[[petals]]\n",
      "\t time 0.61764\t any 0.05041\n",
      "dsb[[dyngen]]\n",
      "\t time 3.47405\t any 0.49303\n",
      "tjnet[[petals]]\n",
      "\t time 2.76939\t any 2.1557\n",
      "tjnet[[dyngen]]\n",
      "\t time 4.2771\t any 0.61537\n"
     ]
    }
   ],
   "source": [
    "results = [\n",
    "    {\n",
    "        'file': os.path.expanduser('~/Downloads/petals-mioflow.npy'),\n",
    "        'func': None,\n",
    "        'method': 'mioflow',\n",
    "        'dataset': 'petals',\n",
    "        'which': 'generated'\n",
    "    },\n",
    "    {\n",
    "        'file': os.path.expanduser('~/Downloads/generated_leave5.npy'),\n",
    "        'func': None,\n",
    "        'method': 'mioflow',\n",
    "        'dataset': 'dyngen',\n",
    "        'which': 'generated'\n",
    "    },    \n",
    "    {\n",
    "        'file': os.path.expanduser('~/Downloads/petals_save (1).npy'),\n",
    "        'func': lambda e: np.array(np.split(e[-1], 5)),\n",
    "        'method': 'dsb',\n",
    "        'dataset': 'petals',\n",
    "        'which': 'generated'\n",
    "    },\n",
    "    {\n",
    "        'file': os.path.expanduser('~/Downloads/dyngen_save (1).npy'),\n",
    "        'func': lambda e: np.array(np.split(e[-1], 5)),\n",
    "        'method': 'dsb',\n",
    "        'dataset': 'dyngen',\n",
    "        'which': 'generated'        \n",
    "    },\n",
    "    {\n",
    "        'file': os.path.expanduser('~/Downloads/petals_trajnet.npy'),\n",
    "        'func': None,\n",
    "        'method': 'tjnet',\n",
    "        'dataset': 'petals',\n",
    "        'which': 'trajectories'        \n",
    "    },\n",
    "    {\n",
    "        'file': os.path.expanduser('~/Downloads/dyngen_trajnet.npy'),\n",
    "        'func': None,\n",
    "        'method': 'tjnet',\n",
    "        'dataset': 'dyngen',\n",
    "        'which': 'trajectories'                \n",
    "    }\n",
    "]\n",
    "\n",
    "datasets = {\n",
    "    'petals': os.path.expanduser('~/Downloads/petals-df.pkl'),\n",
    "    'dyngen': os.path.expanduser('~/Downloads/dyngen-df.pkl'),\n",
    "}\n",
    "\n",
    "for result in results:\n",
    "    file = result['file']\n",
    "    func = result['func']\n",
    "    method = result['method']\n",
    "    dataset = result['dataset']\n",
    "    which = result['which']\n",
    "    \n",
    "    # load appropriate dataframe\n",
    "    with open(datasets[dataset], 'rb') as f:\n",
    "        df = pickle.load(f)\n",
    "    \n",
    "    # load appropraite file\n",
    "    loaded = np.load(file)\n",
    "    if func is not None:\n",
    "        loaded = func(loaded)\n",
    "\n",
    "\n",
    "    sample_key = 'samples'\n",
    "    how = 'end'\n",
    "    groups = sorted(df.samples.unique())\n",
    "    _method = 'quartile'\n",
    "    \n",
    "    # set data\n",
    "    gen = None\n",
    "    traj = None\n",
    "    if which == 'generated':\n",
    "        gen = loaded\n",
    "    else:\n",
    "        traj = loaded\n",
    "\n",
    "\n",
    "    save = os.path.expanduser(os.path.join(\n",
    "        RES_DIR, '1nn', f'{dataset}_{method}.pkl'\n",
    "    ))\n",
    "    if not os.path.isdir(os.path.dirname(file)):\n",
    "        os.makedirs(os.path.dirname(file))\n",
    "\n",
    "    _time = calculate_nn(\n",
    "        df, generated=gen, trajectories=traj,\n",
    "        compare_to='time',\n",
    "        how=how,\n",
    "        k=1, groups=groups, sample_key=sample_key,\n",
    "        method=_method\n",
    "    )\n",
    "    _any = calculate_nn(\n",
    "        df, generated=gen, trajectories=traj,\n",
    "        compare_to='any',\n",
    "        how=how,\n",
    "        k=1, groups=groups, sample_key=sample_key,\n",
    "        method=_method\n",
    "    )\n",
    "    print(f'{method}[[{dataset}]]\\n\\t time {np.round(_time, 5)}\\t any {np.round(_any, 5)}')\n",
    "    with open(save, 'wb') as f:\n",
    "        pickle.dump({\n",
    "            'df': df,\n",
    "            '1nn': {'time':_time, 'any':_any},\n",
    "            'how': how,\n",
    "            'generated': gen,\n",
    "            'trajectories': traj\n",
    "        }, f)"
   ]
  },
  {
   "cell_type": "code",
   "execution_count": 172,
   "id": "10352a20",
   "metadata": {},
   "outputs": [
    {
     "data": {
      "image/png": "[encoded data removed]",
      "text/plain": [
       "<Figure size 432x288 with 1 Axes>"
      ]
     },
     "metadata": {
      "needs_background": "light"
     },
     "output_type": "display_data"
    }
   ],
   "source": [
    "for g in l:#get_points_from_trajectories(5, l, 'end'):\n",
    "    plt.scatter(g[:, 0], g[:, 1])"
   ]
  }
 ],
 "metadata": {
  "kernelspec": {
   "display_name": "Python [conda env:root] *",
   "language": "python",
   "name": "conda-root-py"
  },
  "language_info": {
   "codemirror_mode": {
    "name": "ipython",
    "version": 3
   },
   "file_extension": ".py",
   "mimetype": "text/x-python",
   "name": "python",
   "nbconvert_exporter": "python",
   "pygments_lexer": "ipython3",
   "version": "3.9.12"
  },
  "toc": {
   "base_numbering": 1,
   "nav_menu": {},
   "number_sections": true,
   "sideBar": true,
   "skip_h1_title": false,
   "title_cell": "Table of Contents",
   "title_sidebar": "Contents",
   "toc_cell": false,
   "toc_position": {},
   "toc_section_display": true,
   "toc_window_display": false
  }
 },
 "nbformat": 4,
 "nbformat_minor": 5
}
